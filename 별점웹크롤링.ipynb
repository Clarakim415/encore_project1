{
 "cells": [
  {
   "cell_type": "code",
   "execution_count": 1,
   "id": "b5933a88",
   "metadata": {},
   "outputs": [],
   "source": [
    "import pandas as pd\n",
    "from selenium import webdriver\n",
    "from selenium.webdriver.chrome.service import Service\n",
    "from selenium.webdriver.common.by import By\n",
    "import re\n",
    "from bs4 import BeautifulSoup\n",
    "import unicodedata\n",
    "import time"
   ]
  },
  {
   "cell_type": "code",
   "execution_count": null,
   "id": "fce1956b",
   "metadata": {},
   "outputs": [
    {
     "name": "stdout",
     "output_type": "stream",
     "text": [
      "['가산D.C역 개방화장실', '\\n\\n\\n\\n', '서울 금천구 가산동\\n                34-83\\n                ']\n",
      "['청량리 개방화장실', '\\n\\n\\n\\n', '서울 동대문구\\n                약령시로 154\\n                 (우)02490']\n",
      "['동대문세무서 개방화장실', '\\n\\n\\n\\n', '서울 동대문구\\n                약령시로 159\\n                 (우)02489']\n",
      "['청량리역 개방화장실', '\\n\\n\\n\\n', '서울 동대문구\\n                왕산로 지하 205\\n                 (우)02559']\n",
      "['청량리역 개방화장실', '\\n\\n\\n\\n', '서울 동대문구\\n                왕산로 214\\n                 (우)02555']\n",
      "['광장시장 만남의쉼터 개방화장실', '\\n\\n\\n\\n', '서울 종로구\\n                창경궁로12길 36\\n                 (우)03195']\n",
      "['종로5가역 개방화장실', '\\n\\n\\n\\n', '서울 종로구\\n                종로 지하 200\\n                 (우)03195']\n",
      "['신진시장 만남의 장소 개방화장실', '\\n\\n\\n\\n', '서울 종로구\\n                종로38길 16\\n                 (우)03197']\n",
      "['서울종로5가우체국 1층 개방화장실', '\\n\\n\\n\\n', '서울 종로구\\n                종로 207-1\\n                 (우)03129']\n",
      "['종로5가 지하상가 개방화장실', '\\n\\n\\n\\n', '서울 종로구 종로5가\\n                82-1\\n                ']\n",
      "['종로5가파출소 1층 개방화장실', '\\n\\n\\n\\n', '서울 종로구\\n                동호로 407\\n                 (우)03195']\n",
      "['광장골목시장수도직물 3층 개방화장실', '\\n\\n\\n\\n', '서울 종로구\\n                청계천로 195-7\\n                 (우)03195']\n",
      "['방산시장-A 개방화장실', '\\n\\n\\n\\n', '서울 중구\\n                동호로37길 20\\n                 (우)04546']\n",
      "['종로5가 무인자동 개방화장실', '\\n\\n\\n\\n', '서울 종로구\\n                동호로 401\\n                 (우)03195']\n",
      "['방산시장-B 개방화장실', '\\n\\n\\n\\n', '서울 중구\\n                동호로37길 20\\n                 (우)04546']\n",
      "['광장시장 합동,화창빌딩 개방화장실', '\\n\\n\\n\\n', '서울 종로구\\n                종로 194-7\\n                 (우)03195']\n",
      "['청계5가 지하상가 개방화장실', '\\n\\n\\n\\n', '서울 중구\\n                동호로 지하 384\\n                 (우)04562']\n",
      "['광장시장 3층동관부 개방화장실', '\\n\\n\\n\\n', '서울 종로구\\n                창경궁로 88\\n                 (우)03195']\n",
      "['광장시장 1층청과부 개방화장실', '\\n\\n\\n\\n', '서울 종로구\\n                창경궁로 88\\n                 (우)03195']\n",
      "['서울시중부교육청 1,2,3층 개방화장실', '\\n\\n\\n\\n', '서울 종로구\\n                대학로 10\\n                 (우)03126']\n",
      "['광장골목시장평아직물 2층 개방화장실', '\\n\\n\\n\\n', '서울 종로구\\n                청계천로 205\\n                 (우)03195']\n",
      "['종각역 개방화장실', '\\n\\n\\n\\n', '서울 종로구 종로2가\\n                6\\n                ']\n"
     ]
    }
   ],
   "source": [
    "data = pd.read_csv('../data/역별 화장실 주소.csv',index_col = 0)\n",
    "path = '../../../driver/chromedriver.exe'\n",
    "browser = webdriver.Chrome(service=Service(path))\n",
    "browser.get('https://map.kakao.com/')\n",
    "\n",
    "\n",
    "url = 'http://place.map.kakao.com/26334341'\n",
    "browser.get(url)\n",
    "time.sleep(5)\n",
    "\n",
    "url_list = data['링크']\n",
    "\n",
    "def get_info(browser): # 화장실 이름, 별점, 주소 크롤링 하는 함수  \n",
    "    html = browser.page_source\n",
    "    soup = BeautifulSoup(html, 'html.parser')\n",
    "    try:\n",
    "        address = soup.select('span.txt_address')[0].text\n",
    "        place = soup.select('h2.tit_location')[0].text\n",
    "        star = soup.select('div.grade_star')[1].text\n",
    "    except:\n",
    "        print('error')\n",
    "        content = ' '\n",
    "    data = [place,star,address]\n",
    "    return data\n",
    "\n",
    "results = []\n",
    "target = len(url_list)\n",
    "for i in range(target):\n",
    "    try:\n",
    "        browser.get(url_list[i])\n",
    "        time.sleep(5)\n",
    "        data = get_info(browser)\n",
    "        print(data)\n",
    "        results.append(data)\n",
    "        i = i + 1\n",
    "    except:\n",
    "        i = i + 1\n",
    "print(results)"
   ]
  },
  {
   "cell_type": "code",
   "execution_count": null,
   "id": "4047adea",
   "metadata": {},
   "outputs": [],
   "source": [
    "results_df = pd.DataFrame(results)\n",
    "results_df.columns = ['이름','별점','주소']\n",
    "results_df.to_csv('../data/화장실 별점.csv')"
   ]
  },
  {
   "cell_type": "code",
   "execution_count": null,
   "id": "d9474f42",
   "metadata": {},
   "outputs": [],
   "source": [
    "data1 = [item.replace('\\n', '') for item in data['별점']]"
   ]
  },
  {
   "cell_type": "code",
   "execution_count": null,
   "id": "147246c2",
   "metadata": {},
   "outputs": [],
   "source": [
    "data['별점'] = data1"
   ]
  },
  {
   "cell_type": "code",
   "execution_count": null,
   "id": "c7439dd2",
   "metadata": {},
   "outputs": [],
   "source": [
    "data2 = [item.replace('0', '') for item in data['별점']]"
   ]
  },
  {
   "cell_type": "code",
   "execution_count": null,
   "id": "9d72f350",
   "metadata": {},
   "outputs": [],
   "source": [
    "data['별점'] = data2"
   ]
  },
  {
   "cell_type": "code",
   "execution_count": null,
   "id": "a6eeba72",
   "metadata": {},
   "outputs": [],
   "source": []
  }
 ],
 "metadata": {
  "kernelspec": {
   "display_name": "Python 3 (ipykernel)",
   "language": "python",
   "name": "python3"
  },
  "language_info": {
   "codemirror_mode": {
    "name": "ipython",
    "version": 3
   },
   "file_extension": ".py",
   "mimetype": "text/x-python",
   "name": "python",
   "nbconvert_exporter": "python",
   "pygments_lexer": "ipython3",
   "version": "3.9.13"
  }
 },
 "nbformat": 4,
 "nbformat_minor": 5
}
