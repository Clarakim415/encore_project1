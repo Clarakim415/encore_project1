{
 "cells": [
  {
   "cell_type": "code",
   "execution_count": null,
   "id": "8f189484",
   "metadata": {},
   "outputs": [],
   "source": [
    "from selenium import webdriver\n",
    "from selenium.webdriver.chrome.service import Service\n",
    "from selenium.webdriver.common.by import By\n",
    "import re\n",
    "from bs4 import BeautifulSoup\n",
    "import unicodedata\n",
    "import time\n",
    "path = '../../../driver/chromedriver.exe'\n",
    "browser = webdriver.Chrome(service=Service(path))\n",
    "url_list = list(toilet_link)\n",
    "url = url_list[0] \n",
    "browser.get('https://map.kakao.com/')\n",
    "url = 'http://place.map.kakao.com/26334341' \n",
    "browser.get(url)\n",
    "time.sleep(5)\n",
    "def get_content(browser):\n",
    "    html = browser.page_source\n",
    "    soup = BeautifulSoup(html, 'html.parser')\n",
    "    try:\n",
    "        content = soup.select('div.comment_info')[0].text\n",
    "        \n",
    "        content = unicodedata.normalize('NFC', content)\n",
    "        \n",
    "    except:\n",
    "        content = ' '\n",
    "    data = content\n",
    "    return data\n",
    "results = []\n",
    "target = len(url_list)\n",
    "for i in range(target):\n",
    "    try:\n",
    "        browser.get(url_list[i])\n",
    "        time.sleep(5)\n",
    "        data = get_content(browser)\n",
    "        print(data)\n",
    "        results.append(data)\n",
    "        i = i + 1\n",
    "    except:\n",
    "        i = i + 1\n",
    "print(results)"
   ]
  }
 ],
 "metadata": {
  "kernelspec": {
   "display_name": "Python 3 (ipykernel)",
   "language": "python",
   "name": "python3"
  },
  "language_info": {
   "codemirror_mode": {
    "name": "ipython",
    "version": 3
   },
   "file_extension": ".py",
   "mimetype": "text/x-python",
   "name": "python",
   "nbconvert_exporter": "python",
   "pygments_lexer": "ipython3",
   "version": "3.10.9"
  }
 },
 "nbformat": 4,
 "nbformat_minor": 5
}
